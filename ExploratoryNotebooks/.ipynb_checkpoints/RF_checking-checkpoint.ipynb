{
 "metadata": {
  "name": "",
  "signature": "sha256:7f24d0439427dd3eb679361af37410ff10be3ff8ebafb8403d9fdf3008979aee"
 },
 "nbformat": 3,
 "nbformat_minor": 0,
 "worksheets": [
  {
   "cells": [
    {
     "cell_type": "code",
     "collapsed": false,
     "input": [
      "import dendropy\n",
      "from dendropy.utility.fileutils import find_files\n",
      "import numpy as np"
     ],
     "language": "python",
     "metadata": {},
     "outputs": [],
     "prompt_number": 1
    },
    {
     "cell_type": "code",
     "collapsed": false,
     "input": [
      "taxa = dendropy.TaxonSet()\n",
      "\n",
      "pb_o = dendropy.Tree.get_from_path('./Trees/original_tree.tre', 'newick', taxon_set=taxa)"
     ],
     "language": "python",
     "metadata": {},
     "outputs": [],
     "prompt_number": 2
    },
    {
     "cell_type": "code",
     "collapsed": false,
     "input": [
      "uolist = find_files(top='Trees/MLE', filename_filter='*b')"
     ],
     "language": "python",
     "metadata": {},
     "outputs": [],
     "prompt_number": 3
    },
    {
     "cell_type": "code",
     "collapsed": false,
     "input": [
      "uotrees = [dendropy.Tree.get_from_path(filename,\"newick\", taxon_set=taxa) for filename in uolist]"
     ],
     "language": "python",
     "metadata": {},
     "outputs": [],
     "prompt_number": 4
    },
    {
     "cell_type": "code",
     "collapsed": false,
     "input": [
      "olist = find_files(top='garli_opt/', filename_filter='*.tre')\n",
      "print olist"
     ],
     "language": "python",
     "metadata": {},
     "outputs": [
      {
       "output_type": "stream",
       "stream": "stdout",
       "text": [
        "['/home/april/projectfiles/squamates/garli_opt/1.tre', '/home/april/projectfiles/squamates/garli_opt/4.tre', '/home/april/projectfiles/squamates/garli_opt/5.tre', '/home/april/projectfiles/squamates/garli_opt/6.tre', '/home/april/projectfiles/squamates/garli_opt/MLE.tre']\n"
       ]
      }
     ],
     "prompt_number": 3
    },
    {
     "cell_type": "code",
     "collapsed": false,
     "input": [
      "otrees = [dendropy.Tree.get_from_path(filename, \"nexus\") for filename in olist]"
     ],
     "language": "python",
     "metadata": {},
     "outputs": []
    },
    {
     "cell_type": "code",
     "collapsed": false,
     "input": [
      "n = len(uotrees)\n",
      "udiffarray = np.zeros((n,n))\n",
      "\n",
      "for i, ele1 in enumerate(uotrees):\n",
      "    for j, ele2 in enumerate(uotrees):\n",
      "        if j >= i:\n",
      "            break # Since the matrix is symmetrical we don't need to\n",
      "                  # calculate everything\n",
      "        difference = ele1.symmetric_difference(ele2) \n",
      "        udiffarray[i, j] = difference\n",
      "        udiffarray[j, i] = difference"
     ],
     "language": "python",
     "metadata": {},
     "outputs": []
    },
    {
     "cell_type": "code",
     "collapsed": false,
     "input": [
      "diffarray"
     ],
     "language": "python",
     "metadata": {},
     "outputs": []
    },
    {
     "cell_type": "code",
     "collapsed": false,
     "input": [
      "diffarray"
     ],
     "language": "python",
     "metadata": {},
     "outputs": [
      {
       "metadata": {},
       "output_type": "pyout",
       "prompt_number": 38,
       "text": [
        "array([[    0.,   866.,   974.,   886.,  1002.,   884.,   984.,   938.,\n",
        "          946.],\n",
        "       [  866.,     0.,   716.,   686.,   632.,   604.,   658.,   700.,\n",
        "          654.],\n",
        "       [  974.,   716.,     0.,   718.,   682.,   696.,   794.,   756.,\n",
        "          784.],\n",
        "       [  886.,   686.,   718.,     0.,   800.,   692.,   696.,   758.,\n",
        "          762.],\n",
        "       [ 1002.,   632.,   682.,   800.,     0.,   618.,   808.,   810.,\n",
        "          674.],\n",
        "       [  884.,   604.,   696.,   692.,   618.,     0.,   754.,   696.,\n",
        "          686.],\n",
        "       [  984.,   658.,   794.,   696.,   808.,   754.,     0.,   720.,\n",
        "          714.],\n",
        "       [  938.,   700.,   756.,   758.,   810.,   696.,   720.,     0.,\n",
        "          772.],\n",
        "       [  946.,   654.,   784.,   762.,   674.,   686.,   714.,   772.,\n",
        "            0.]])"
       ]
      }
     ],
     "prompt_number": 38
    },
    {
     "cell_type": "code",
     "collapsed": false,
     "input": [
      "o_tl = [tree.length() for tree in otrees]\n",
      "print o_tl"
     ],
     "language": "python",
     "metadata": {},
     "outputs": [
      {
       "output_type": "stream",
       "stream": "stdout",
       "text": [
        "[267.81482687115044, 204.3680261301375, 218.91695960755754, 205.61858615952585, 215.44145413795812, 203.79452107889662, 203.37676965100104, 205.6211342413188, 203.61742308190165]\n"
       ]
      }
     ],
     "prompt_number": 36
    },
    {
     "cell_type": "code",
     "collapsed": false,
     "input": [
      "uo_tl = [mle.length() for mle in uotrees]\n",
      "print uo_tl"
     ],
     "language": "python",
     "metadata": {},
     "outputs": [
      {
       "output_type": "stream",
       "stream": "stdout",
       "text": [
        "[267.81482687115044, 204.3680261301375, 218.91695960755754, 205.61858615952585, 215.44145413795812, 203.79452107889662, 203.37676965100104, 205.6211342413188, 203.61742308190165]\n"
       ]
      }
     ],
     "prompt_number": 39
    },
    {
     "cell_type": "code",
     "collapsed": false,
     "input": [],
     "language": "python",
     "metadata": {},
     "outputs": []
    }
   ],
   "metadata": {}
  }
 ]
}