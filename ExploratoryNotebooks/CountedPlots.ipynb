{
 "metadata": {
  "name": "",
  "signature": "sha256:e48ccc2621e67e9bfca9624bbdc4378351e3b893b0283e50bf99211e6363eabf"
 },
 "nbformat": 3,
 "nbformat_minor": 0,
 "worksheets": [
  {
   "cells": [
    {
     "cell_type": "code",
     "collapsed": false,
     "input": [
      "import pandas as pd\n",
      "from pandas import *\n",
      "import matplotlib.pyplot as plt\n",
      "%matplotlib inline\n",
      "from ggplot import *\n",
      "from numpy import random \n",
      "plt.style.use('ggplot')\n",
      "\n"
     ],
     "language": "python",
     "metadata": {},
     "outputs": [],
     "prompt_number": 1
    },
    {
     "cell_type": "code",
     "collapsed": false,
     "input": [
      "data = pd.read_csv(\"../Data/Histogram/pared_down.csv\")\n",
      "data"
     ],
     "language": "python",
     "metadata": {},
     "outputs": [
      {
       "html": [
        "<div style=\"max-height:1000px;max-width:1500px;overflow:auto;\">\n",
        "<table border=\"1\" class=\"dataframe\">\n",
        "  <thead>\n",
        "    <tr style=\"text-align: right;\">\n",
        "      <th></th>\n",
        "      <th>Tree</th>\n",
        "      <th>Reversions</th>\n",
        "      <th>Origins</th>\n",
        "      <th>Parameter</th>\n",
        "    </tr>\n",
        "  </thead>\n",
        "  <tbody>\n",
        "    <tr>\n",
        "      <th>0 </th>\n",
        "      <td>     0</td>\n",
        "      <td> 32</td>\n",
        "      <td> 21</td>\n",
        "      <td> NP</td>\n",
        "    </tr>\n",
        "    <tr>\n",
        "      <th>1 </th>\n",
        "      <td>     0</td>\n",
        "      <td> 24</td>\n",
        "      <td> 25</td>\n",
        "      <td> 1p</td>\n",
        "    </tr>\n",
        "    <tr>\n",
        "      <th>2 </th>\n",
        "      <td>     0</td>\n",
        "      <td> 26</td>\n",
        "      <td> 24</td>\n",
        "      <td> 2p</td>\n",
        "    </tr>\n",
        "    <tr>\n",
        "      <th>3 </th>\n",
        "      <td>  5684</td>\n",
        "      <td> 24</td>\n",
        "      <td> 22</td>\n",
        "      <td> NP</td>\n",
        "    </tr>\n",
        "    <tr>\n",
        "      <th>4 </th>\n",
        "      <td>  5684</td>\n",
        "      <td> 20</td>\n",
        "      <td> 23</td>\n",
        "      <td> 1p</td>\n",
        "    </tr>\n",
        "    <tr>\n",
        "      <th>5 </th>\n",
        "      <td>  5684</td>\n",
        "      <td> 26</td>\n",
        "      <td> 20</td>\n",
        "      <td> 2p</td>\n",
        "    </tr>\n",
        "    <tr>\n",
        "      <th>6 </th>\n",
        "      <td>  5870</td>\n",
        "      <td> 28</td>\n",
        "      <td> 18</td>\n",
        "      <td> NP</td>\n",
        "    </tr>\n",
        "    <tr>\n",
        "      <th>7 </th>\n",
        "      <td>  5870</td>\n",
        "      <td> 17</td>\n",
        "      <td> 28</td>\n",
        "      <td> 1p</td>\n",
        "    </tr>\n",
        "    <tr>\n",
        "      <th>8 </th>\n",
        "      <td>  5870</td>\n",
        "      <td> 26</td>\n",
        "      <td> 18</td>\n",
        "      <td> 2p</td>\n",
        "    </tr>\n",
        "    <tr>\n",
        "      <th>9 </th>\n",
        "      <td> 83796</td>\n",
        "      <td> 35</td>\n",
        "      <td> 18</td>\n",
        "      <td> NP</td>\n",
        "    </tr>\n",
        "    <tr>\n",
        "      <th>10</th>\n",
        "      <td> 83796</td>\n",
        "      <td> 33</td>\n",
        "      <td> 22</td>\n",
        "      <td> 1p</td>\n",
        "    </tr>\n",
        "    <tr>\n",
        "      <th>11</th>\n",
        "      <td> 83796</td>\n",
        "      <td> 42</td>\n",
        "      <td> 18</td>\n",
        "      <td> 2p</td>\n",
        "    </tr>\n",
        "  </tbody>\n",
        "</table>\n",
        "</div>"
       ],
       "metadata": {},
       "output_type": "pyout",
       "prompt_number": 3,
       "text": [
        "     Tree  Reversions  Origins Parameter\n",
        "0       0          32       21        NP\n",
        "1       0          24       25        1p\n",
        "2       0          26       24        2p\n",
        "3    5684          24       22        NP\n",
        "4    5684          20       23        1p\n",
        "5    5684          26       20        2p\n",
        "6    5870          28       18        NP\n",
        "7    5870          17       28        1p\n",
        "8    5870          26       18        2p\n",
        "9   83796          35       18        NP\n",
        "10  83796          33       22        1p\n",
        "11  83796          42       18        2p"
       ]
      }
     ],
     "prompt_number": 3
    },
    {
     "cell_type": "code",
     "collapsed": false,
     "input": [
      "data.columns"
     ],
     "language": "python",
     "metadata": {},
     "outputs": [
      {
       "metadata": {},
       "output_type": "pyout",
       "prompt_number": 99,
       "text": [
        "Index([u'diff', u'vo', u'Term', u'Improvement'], dtype='object')"
       ]
      }
     ],
     "prompt_number": 99
    },
    {
     "cell_type": "code",
     "collapsed": false,
     "input": [
      "table = pivot_table(data, index=['Tree'], columns=['Parameter'])\n",
      "table"
     ],
     "language": "python",
     "metadata": {},
     "outputs": []
    },
    {
     "cell_type": "code",
     "collapsed": false,
     "input": [
      "table.plot(kind='bar', width=.7, sort_columns=True).set_ylim(0,75)\n",
      "\n",
      "plt.tight_layout()\n",
      "plt.savefig('exTotal.svg', bbox_inches='tight', dpi=300)\n"
     ],
     "language": "python",
     "metadata": {},
     "outputs": [
      {
       "metadata": {},
       "output_type": "display_data",
       "png": "[encoded data removed]",
       "text": [
        "<matplotlib.figure.Figure at 0xa816b62c>"
       ]
      }
     ],
     "prompt_number": 32
    },
    {
     "cell_type": "code",
     "collapsed": false,
     "input": [],
     "language": "python",
     "metadata": {},
     "outputs": [],
     "prompt_number": 81
    },
    {
     "cell_type": "code",
     "collapsed": false,
     "input": [],
     "language": "python",
     "metadata": {},
     "outputs": []
    }
   ],
   "metadata": {}
  }
 ]
}