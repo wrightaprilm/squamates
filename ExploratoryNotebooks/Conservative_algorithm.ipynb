{
 "metadata": {
  "name": "",
  "signature": "sha256:a8b581946a369958506a3d531b249643395d45dd05baceb06c21dc84029695b2"
 },
 "nbformat": 3,
 "nbformat_minor": 0,
 "worksheets": [
  {
   "cells": [
    {
     "cell_type": "code",
     "collapsed": false,
     "input": [
      "import dendropy\n",
      "import pandas as pd"
     ],
     "language": "python",
     "metadata": {},
     "outputs": [],
     "prompt_number": 1
    },
    {
     "cell_type": "code",
     "collapsed": false,
     "input": [
      "data = pd.read_csv('../Data/PyronParityData.csv', index_col=0, header=False)"
     ],
     "language": "python",
     "metadata": {},
     "outputs": [],
     "prompt_number": 2
    },
    {
     "cell_type": "code",
     "collapsed": false,
     "input": [
      "taxa = dendropy.TaxonSet()\n",
      "mle = dendropy.Tree.get_from_path('/home/april/TotalOpt/annotated_TO_0_2598573', 'newick', taxon_set=taxa, preserve_underscores=True) "
     ],
     "language": "python",
     "metadata": {},
     "outputs": [],
     "prompt_number": 3
    },
    {
     "cell_type": "code",
     "collapsed": false,
     "input": [
      "for idx, nd in enumerate(mle.postorder_node_iter()):\n",
      "    if nd.label is None:\n",
      "        lookup = '{}'.format(nd.taxon)\n",
      "        nd.label = int(data.ix[lookup])\n",
      "    else: \n",
      "        pass"
     ],
     "language": "python",
     "metadata": {},
     "outputs": [],
     "prompt_number": 4
    },
    {
     "cell_type": "code",
     "collapsed": false,
     "input": [],
     "language": "python",
     "metadata": {},
     "outputs": []
    },
    {
     "cell_type": "code",
     "collapsed": false,
     "input": [],
     "language": "python",
     "metadata": {},
     "outputs": []
    },
    {
     "cell_type": "code",
     "collapsed": false,
     "input": [],
     "language": "python",
     "metadata": {},
     "outputs": []
    },
    {
     "cell_type": "code",
     "collapsed": true,
     "input": [
      "putative_c = [] #changes to viviparity\n",
      "putative_co = [] #reversions to oviparity\n",
      "total = []\n",
      "childs = []\n",
      "for index, node in enumerate(mle.preorder_node_iter()):\n",
      "    total.append(index)\n",
      "    if node.child_nodes() is None:\n",
      "        pass\n",
      "    elif .95 < float(node.label) < 1:    #Is likely oviparous \n",
      "         for child in node.child_nodes():\n",
      "                if 0.05 > float(child.label) > 0.0 or float(child.label) == 1.0:\n",
      "                    putative_c.append([node.label, child.label])\n",
      "    elif 0.0 < float(node.label) < 0.05:    #Is likely viviparous\n",
      "         for child in node.child_nodes():\n",
      "                if 0.95 < float(child.label) < 1.0 or float(child.label) == 0.0:\n",
      "                    putative_co.append([node.label, child.label])\n",
      "    \n",
      "print len(putative_co), 'reversions'\n",
      "print putative_co\n",
      "print len(putative_c), 'origins'\n",
      "print putative_c"
     ],
     "language": "python",
     "metadata": {},
     "outputs": [
      {
       "output_type": "stream",
       "stream": "stdout",
       "text": [
        "30 reversions\n",
        "[['0.00814190651836348', 0], ['0.0308549981635398', '0.98329029683083'], ['0.00354854662170302', 0], ['0.0286135200356442', 0], ['0.000264827835900556', 0], ['0.0365454891220299', '0.985864019460488'], ['0.0227658558455687', 0], ['0.000198130846160584', 0], ['0.0283144326651971', '0.955094855392282'], ['0.00650354695580333', '0.992905191534964'], ['0.0458694000049211', 0], ['0.0480700786241446', '0.999753533983858'], ['0.0187712098314359', '0.995682437360015'], ['0.00153196557419871', 0], ['0.00698350805419844', 0], ['0.00426135485547637', 0], ['0.00770372580413623', 0], ['0.000476475895842142', '0.984498545068216'], ['0.00661256418319184', 0], ['0.00583958038588137', 0], ['0.000249385745131794', 0], ['0.00118135516177058', 0], ['0.00141564858538203', 0], ['0.0200598576386953', 0], ['0.0273541798352395', 0], ['0.0046786207182118', '0.981230885728149'], ['0.0274318317516564', 0], ['0.0250554339221624', 0], ['0.0456037094095468', 0], ['0.0321239779055584', 0]]\n",
        "20 origins\n",
        "[['0.99255816141754', 1], ['0.989783058321605', '0.00134758415870475'], ['0.952631572443765', 1], ['0.997030671498103', 1], ['0.995786214492316', '0.000464346663636972'], ['0.964971075968396', 1], ['0.998002819303153', '0.001406214108314'], ['0.960311172227834', '0.00108743631130598'], ['0.984626536482531', '0.00150601684741793'], ['0.950297343307378', 1], ['0.979466125865686', 1], ['0.998659267876467', 1], ['0.993810830258193', '0.00233344426356787'], ['0.999489152159052', '0.00811057511876173'], ['0.968274690549191', 1], ['0.969939553406055', '0.00212039799866078'], ['0.994938006837605', '0.0413792538556955'], ['0.979998644666102', '0.000603025538915981'], ['0.955435152088978', 1], ['0.999386333709116', '0.00428491363956837']]\n"
       ]
      }
     ],
     "prompt_number": 33
    },
    {
     "cell_type": "code",
     "collapsed": false,
     "input": [],
     "language": "python",
     "metadata": {},
     "outputs": []
    },
    {
     "cell_type": "code",
     "collapsed": false,
     "input": [],
     "language": "python",
     "metadata": {},
     "outputs": []
    }
   ],
   "metadata": {}
  }
 ]
}