{
 "metadata": {
  "name": "",
  "signature": "sha256:bce60b965e2b3c78e928ce49b2e0749321cb4d66baf149557ab1934abb393467"
 },
 "nbformat": 3,
 "nbformat_minor": 0,
 "worksheets": [
  {
   "cells": [
    {
     "cell_type": "code",
     "collapsed": false,
     "input": [
      "import dendropy\n",
      "import pandas as pd"
     ],
     "language": "python",
     "metadata": {},
     "outputs": [],
     "prompt_number": 30
    },
    {
     "cell_type": "code",
     "collapsed": false,
     "input": [
      "data = pd.read_csv('../Data/PyronParityData.csv', index_col=0, header=False)"
     ],
     "language": "python",
     "metadata": {},
     "outputs": [],
     "prompt_number": 31
    },
    {
     "cell_type": "code",
     "collapsed": false,
     "input": [
      "taxa = dendropy.TaxonSet()\n",
      "mle = dendropy.Tree.get_from_path('../2598364_1', 'newick', taxon_set=taxa, preserve_underscores=True) "
     ],
     "language": "python",
     "metadata": {},
     "outputs": [],
     "prompt_number": 32
    },
    {
     "cell_type": "code",
     "collapsed": false,
     "input": [
      "for idx, nd in enumerate(mle.leaf_iter()):\n",
      "    if nd.label is None:\n",
      "        lookup = '{}'.format(nd.taxon)\n",
      "        nd.label = int(data.ix[lookup])\n",
      "    else: \n",
      "        pass"
     ],
     "language": "python",
     "metadata": {},
     "outputs": [],
     "prompt_number": 33
    },
    {
     "cell_type": "code",
     "collapsed": true,
     "input": [
      "putative_c = [] #changes to viviparity\n",
      "putative_co = [] #reversions to oviparity\n",
      "total = []\n",
      "childs = []\n",
      "for index, node in enumerate(mle.preorder_node_iter()):\n",
      "    total.append(index) # print total to check that you have the right number of nodes in tree\n",
      "    if node.child_nodes() is None:\n",
      "        pass\n",
      "    elif 0.95 < float(node.label):    #Is likely oviparous\n",
      "         node.annotations.add_new(name = '!color', value = '#0000FF')\n",
      "         for child in node.child_nodes():\n",
      "                if 0.05 > float(child.label):\n",
      "                    node.annotations.add_new(name = '!color', value = '#ff0000')\n",
      "                    putative_c.append([node.label, child.label])\n",
      "                    if child.taxon:\n",
      "                        print 'origin', child.taxon\n",
      "                    else:\n",
      "                        for chil in child.child_nodes():\n",
      "                            if chil.taxon:\n",
      "                                print 'origin in clade', chil.taxon                    \n",
      "                else:\n",
      "                    if len(node.annotations) == 0:\n",
      "                        node.annotations.add_new(name = '!color', value = '#0000FF')\n",
      "                        \n",
      "    elif 0.05 > float(node.label):    #Is likely viviparous\n",
      "         node.annotations.add_new(name = '!color', value = '#ff0000') #Dark blue, zeroes\n",
      "         for child in node.child_nodes():\n",
      "                if 0.95 <= float(child.label):\n",
      "                    putative_co.append([node.label, child.label])\n",
      "                    node.annotations.add_new(name = '!color', value = '#0000FF') #Dark blue, zeroes\n",
      "                    if child.taxon:\n",
      "                        print 'reversal', child.taxon  \n",
      "                    else:\n",
      "                        for chil in child.child_nodes():                            \n",
      "                            if chil.taxon:\n",
      "                                print 'reversal in clade', chil.taxon\n",
      "                else:\n",
      "                    if len(node.annotations) == 0:\n",
      "                        node.annotations.add_new(name = '!color', value = '#ff0000')\n",
      "    elif 0.95 >float(node.label) > 0.05:\n",
      "         node.annotations.add_new(name = '!color', value = '#0000FF')\n",
      "        \n",
      "    \n",
      "print len(putative_co), 'reversions'\n",
      "print putative_co\n",
      "print len(putative_c), 'origins'\n",
      "print putative_c"
     ],
     "language": "python",
     "metadata": {},
     "outputs": [
      {
       "output_type": "stream",
       "stream": "stdout",
       "text": [
        "origin Rhacodactylus_trachyrhynchus\n",
        "reversal in clade"
       ]
      },
      {
       "output_type": "stream",
       "stream": "stdout",
       "text": [
        " Macrovipera_schweizeri\n",
        "reversal in clade Macrovipera_lebetina\n",
        "reversal Azemiops_feae\n",
        "reversal Deinagkistrodon_acutus\n",
        "reversal Calloselasma_rhodostoma\n",
        "reversal Trimeresurus_borneensis\n",
        "reversal in clade Lachesis_stenophrys\n",
        "reversal in clade Lachesis_muta\n",
        "origin Psammodynastes_pulverulentus\n",
        "origin Pseudaspis_cana\n",
        "origin Liopholidophis_sexlineatus\n",
        "origin Hemachatus_haemachatus\n",
        "origin in clade"
       ]
      },
      {
       "output_type": "stream",
       "stream": "stdout",
       "text": [
        " Ahaetulla_pulverulenta\n",
        "origin in clade Conopsis_nasus\n",
        "origin in clade Conopsis_biserialis\n",
        "origin in clade Clonophis_kirtlandii\n",
        "origin Sinonatrix_annularis\n",
        "reversal Calabaria_reinhardtii\n",
        "reversal Eryx_jayakari\n",
        "reversal"
       ]
      },
      {
       "output_type": "stream",
       "stream": "stdout",
       "text": [
        " Anomochilus_leonardi\n",
        "origin Chamaeleo_affinis\n",
        "origin in clade Phrynocephalus_forsythii\n",
        "origin in clade Cophotis_dumbara\n",
        "origin in clade Cophotis_ceylanica\n",
        "reversal"
       ]
      },
      {
       "output_type": "stream",
       "stream": "stdout",
       "text": [
        " Sceloporus_lundelli\n",
        "origin Liolaemus_nigroviridis\n",
        "reversal Liolaemus_chiliensis\n",
        "origin in clade Liolaemus_crepuscularis\n",
        "origin Liolaemus_espinozai\n",
        "reversal Liolaemus_calchaqui\n",
        "reversal Diploglossus_bilobatus\n",
        "origin Anguis_fragilis\n",
        "origin in clade"
       ]
      },
      {
       "output_type": "stream",
       "stream": "stdout",
       "text": [
        " Eremias_przewalskii\n",
        "origin in clade Eremias_multiocellata\n",
        "origin Monopeltis_capensis\n",
        "origin Trogonophis_wiegmanni\n",
        "reversal in clade Plestiodon_chinensis\n",
        "reversal in clade Calyptotis_lepidorostrum\n",
        "origin Lipinia_noctua\n",
        "reversal Ablepharus_pannonicus\n",
        "reversal"
       ]
      },
      {
       "output_type": "stream",
       "stream": "stdout",
       "text": [
        " Oligosoma_suteri\n",
        "origin in clade Niveoscincus_greeni\n",
        "17 reversions\n",
        "[['0.00787757843403834', '0.994474971588954'], ['0.00421783586044521', 1], ['0.00758591257800187', 1], ['0.00496166872511054', 1], ['0.00927146043833161', 1], ['0.000622156138128059', '0.987261222075985'], ['0.00237201466850879', 1], ['0.00126579305115785', 1], ['0.00256112020016132', 1], ['0.00664679417497085', 1], ['0.0012142515637953', 1], ['0.00068457595549517', 1], ['0.00931878076998118', 1], ['0.0016855901938417', '0.951681939165898'], ['0.00988197142574313', '0.985481782820485'], ['0.0216446531838235', 1], ['3.99237614972218e-05', 1]]\n",
        "27 origins\n",
        "[['0.993219160871954', '0.00162673395433503'], ['0.995179719649829', 0], ['0.988366440598484', 0], ['0.952245570947064', 0], ['0.960833772383943', 0], ['0.99895456926748', 0], ['0.993852341018983', '0.00266048195461689'], ['0.983055308472194', '0.0105011313448504'], ['0.998120314050423', '0.0359839055077887'], ['0.981056900234731', '0.00411779221074872'], ['0.981445619648509', 0], ['0.982905255642751', 0], ['0.998560292105321', '0.00201118143265881'], ['0.963150272336692', '0.0061301581978438'], ['0.968241962103618', '0.00130430607979531'], ['0.964590730341668', 0], ['0.993680295948305', '0.00188427659916126'], ['0.951837459174403', 0], ['0.965254482143646', 0], ['0.997168681460311', '0.000534931947138872'], ['0.998116202242371', 0], ['0.961120149820311', 0], ['0.98726503622811', '0.000703135996835911'], ['0.97792234348717', '0.000229649274586856'], ['0.960419990295342', '0.00160723705725872'], ['0.977957731952092', 0], ['0.999858904464587', '0.000589200524951921']]\n"
       ]
      }
     ],
     "prompt_number": 35
    },
    {
     "cell_type": "markdown",
     "metadata": {},
     "source": [
      "mle"
     ]
    },
    {
     "cell_type": "code",
     "collapsed": false,
     "input": [
      "mle.write_to_path('colored', 'nexus', suppress_annotations = False, annotations_as_nhx=False,\n",
      "                  suppress_taxa_block=True,suppress_internal_taxon_labels=True)"
     ],
     "language": "python",
     "metadata": {},
     "outputs": [],
     "prompt_number": 53
    },
    {
     "cell_type": "code",
     "collapsed": false,
     "input": [],
     "language": "python",
     "metadata": {},
     "outputs": [],
     "prompt_number": 34
    },
    {
     "cell_type": "code",
     "collapsed": false,
     "input": [],
     "language": "python",
     "metadata": {},
     "outputs": []
    }
   ],
   "metadata": {}
  }
 ]
}