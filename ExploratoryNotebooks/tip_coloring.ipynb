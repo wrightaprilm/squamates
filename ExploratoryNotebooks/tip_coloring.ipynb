{
 "metadata": {
  "name": "",
  "signature": "sha256:68620467002ad684192a397187144dd713d53ba5ae712f0f2fbe25e1c1093523"
 },
 "nbformat": 3,
 "nbformat_minor": 0,
 "worksheets": [
  {
   "cells": [
    {
     "cell_type": "markdown",
     "metadata": {},
     "source": [
      "Purpose: This script melds together your node labels from Diversitree with the tip-based data you've save in a csv. This allows you to appropriately colorize the tree in FigTree. If you don't use this script, the tree will have colors that extend to the parent node of the tips, leaving the tips black."
     ]
    },
    {
     "cell_type": "code",
     "collapsed": false,
     "input": [
      "import dendropy\n",
      "import pandas as pd\n"
     ],
     "language": "python",
     "metadata": {},
     "outputs": [],
     "prompt_number": 1
    },
    {
     "cell_type": "markdown",
     "metadata": {},
     "source": [
      "Import tree with node labels. Because we'll use a pandas dataframe to associate the tip data with the tree, we want to preserve the underscores, assuming they exist in your data file of tip states. If not, set to false."
     ]
    },
    {
     "cell_type": "code",
     "collapsed": false,
     "input": [
      "taxa = dendropy.TaxonSet()\n",
      "mle = dendropy.Tree.get_from_path('../2598364_0', 'newick', taxon_set=taxa, preserve_underscores=True,extract_comment_metadata=True)\n"
     ],
     "language": "python",
     "metadata": {},
     "outputs": [],
     "prompt_number": 2
    },
    {
     "cell_type": "markdown",
     "metadata": {},
     "source": [
      "Import data. CSV with one column of taxon labels, one of tip states."
     ]
    },
    {
     "cell_type": "code",
     "collapsed": false,
     "input": [
      "data = pd.read_csv('../Data/PyronParityData.csv', index_col=0)"
     ],
     "language": "python",
     "metadata": {},
     "outputs": [],
     "prompt_number": 3
    },
    {
     "cell_type": "markdown",
     "metadata": {},
     "source": [
      "Iterate over nodes, associating them with the tip states in the pandas dataframe."
     ]
    },
    {
     "cell_type": "code",
     "collapsed": false,
     "input": [
      "for idx, nd in enumerate(mle.postorder_node_iter()):\n",
      "    if nd.label is None:\n",
      "        lookup = '{}'.format(nd.taxon)\n",
      "        nd.label = int(data.ix[lookup])\n",
      "    else: \n",
      "        pass\n",
      "    "
     ],
     "language": "python",
     "metadata": {},
     "outputs": [],
     "prompt_number": 4
    },
    {
     "cell_type": "markdown",
     "metadata": {},
     "source": [
      "Associate value ranges with colors."
     ]
    },
    {
     "cell_type": "code",
     "collapsed": false,
     "input": [
      "taxa = []\n",
      "putative_c = []\n",
      "putative_r = []\n",
      "for index, node in enumerate(mle.preorder_node_iter()):\n",
      "    if len(node.child_nodes()) == 0:\n",
      "        if float(node.label) == 1:\n",
      "           node.annotations.add_new(name = '!color', value = '#ff0000')\n",
      "        if float(node.label) == 0:\n",
      "           node.annotations.add_new(name = '!color', value = '#0000FF')\n",
      "    elif all([.95 < float(node.label) < 1]): \n",
      "         node.annotations.add_new(name = '!color', value = '#0000FF')\n",
      "         for child in node.child_nodes():\n",
      "                if any([0.0 < float(child.label) < 0.1 or float(child.label) == 1]):\n",
      "                    node.annotations.add_new(name = '!color', value = '#ff0000')\n",
      "                    putative_c.append(child.label)\n",
      "                    print child.taxon\n",
      "                else: \n",
      "                    node.annotations.add_new(name = '!color', value = '#0000FF')\n",
      "    elif all([.05 > float(node.label) > 0]): \n",
      "         node.annotations.add_new(name = '!color', value = '#ff0000')\n",
      "         for child in node.child_nodes():\n",
      "                if any([0.95 < float(child.label) < 1 or float(child.label) == 0]):\n",
      "                    node.annotations.add_new(name = '!color', value = '#0000FF')\n",
      "                    putative_r.append(child.label)\n",
      "                    print 'reverse: %s' % child.taxon\n",
      "                else: \n",
      "                    node.annotations.add_new(name = '!color', value = '#ff0000')\n",
      "\n",
      " #   else:\n",
      "  #      node.annotations.add_new(name = '!color', value = '#0000FF')\n",
      "print 'reverse %s' % len(putative_r)       "
     ],
     "language": "python",
     "metadata": {},
     "outputs": [
      {
       "output_type": "stream",
       "stream": "stdout",
       "text": [
        "None\n",
        "Rhacodactylus_trachyrhynchus\n",
        "None"
       ]
      },
      {
       "output_type": "stream",
       "stream": "stdout",
       "text": [
        "\n",
        "reverse: None\n",
        "reverse: Azemiops_feae\n",
        "reverse: Deinagkistrodon_acutus\n",
        "reverse: Calloselasma_rhodostoma\n",
        "reverse: Trimeresurus_borneensis\n",
        "reverse: None\n",
        "Psammodynastes_pulverulentus"
       ]
      },
      {
       "output_type": "stream",
       "stream": "stdout",
       "text": [
        "\n",
        "Pseudaspis_cana\n",
        "Liopholidophis_sexlineatus\n",
        "Hemachatus_haemachatus\n",
        "None\n",
        "None"
       ]
      },
      {
       "output_type": "stream",
       "stream": "stdout",
       "text": [
        "\n",
        "None\n",
        "None"
       ]
      },
      {
       "output_type": "stream",
       "stream": "stdout",
       "text": [
        "\n",
        "Sinonatrix_annularis\n",
        "reverse: Calabaria_reinhardtii\n",
        "reverse: Eryx_jayakari\n",
        "reverse: Anomochilus_leonardi\n",
        "Chamaeleo_affinis"
       ]
      },
      {
       "output_type": "stream",
       "stream": "stdout",
       "text": [
        "\n",
        "None\n",
        "None\n",
        "None\n",
        "reverse: Sceloporus_lundelli"
       ]
      },
      {
       "output_type": "stream",
       "stream": "stdout",
       "text": [
        "\n",
        "Liolaemus_nigroviridis"
       ]
      },
      {
       "output_type": "stream",
       "stream": "stdout",
       "text": [
        "\n",
        "reverse: Liolaemus_chiliensis\n",
        "None\n",
        "Liolaemus_espinozai\n",
        "reverse: Liolaemus_calchaqui\n",
        "reverse: Diploglossus_bilobatus\n",
        "Anguis_fragilis\n",
        "None"
       ]
      },
      {
       "output_type": "stream",
       "stream": "stdout",
       "text": [
        "\n",
        "Monopeltis_capensis\n",
        "Trogonophis_wiegmanni\n",
        "reverse: None"
       ]
      },
      {
       "output_type": "stream",
       "stream": "stdout",
       "text": [
        "\n",
        "None\n",
        "reverse: None\n",
        "None\n",
        "None\n",
        "Lipinia_noctua\n",
        "reverse: Ablepharus_pannonicus\n",
        "reverse: Oligosoma_suteri"
       ]
      },
      {
       "output_type": "stream",
       "stream": "stdout",
       "text": [
        "\n",
        "None\n",
        "reverse 17\n"
       ]
      }
     ],
     "prompt_number": 5
    },
    {
     "cell_type": "code",
     "collapsed": false,
     "input": [
      "mle.write_to_path('colors', 'nexus', suppress_annotations = False, annotations_as_nhx=False,\n",
      "                  suppress_taxa_block=True,suppress_internal_taxon_labels=True)\n",
      "\n"
     ],
     "language": "python",
     "metadata": {},
     "outputs": [],
     "prompt_number": 6
    },
    {
     "cell_type": "markdown",
     "metadata": {},
     "source": [
      "You now have a FigTree-readable nexus with node and tip annotations."
     ]
    },
    {
     "cell_type": "markdown",
     "metadata": {},
     "source": [
      "\n",
      "\n",
      "    Copyright (c) <2014> <April Wright, wright.aprilm@gmail.com>\n",
      "\n",
      "\n",
      "    Permission is hereby granted, free of charge, to any person obtaining a copy of this software and associated documentation files (the \"Software\"), to deal in the Software without restriction, including without limitation the rights to use, copy, modify, merge, publish, distribute, sublicense, and/or sell copies of the Software, and to permit persons to whom the Software is furnished to do so, subject to the following conditions:\n",
      "\n",
      "    The above copyright notice and this permission notice shall be included in all copies or substantial portions of the Software.\n",
      "\n",
      "    THE SOFTWARE IS PROVIDED \"AS IS\", WITHOUT WARRANTY OF ANY KIND, EXPRESS OR IMPLIED, INCLUDING BUT NOT LIMITED TO THE WARRANTIES OF MERCHANTABILITY, FITNESS FOR A PARTICULAR PURPOSE AND NONINFRINGEMENT. IN NO EVENT SHALL THE AUTHORS OR COPYRIGHT HOLDERS BE LIABLE FOR ANY CLAIM, DAMAGES OR OTHER LIABILITY, WHETHER IN AN ACTION OF CONTRACT, TORT OR OTHERWISE, ARISING FROM, OUT OF OR IN CONNECTION WITH THE SOFTWARE OR THE USE OR OTHER DEALINGS IN THE SOFTWARE.\n"
     ]
    },
    {
     "cell_type": "code",
     "collapsed": false,
     "input": [],
     "language": "python",
     "metadata": {},
     "outputs": []
    }
   ],
   "metadata": {}
  }
 ]
}