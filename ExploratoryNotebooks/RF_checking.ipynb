{
 "cells": [
  {
   "cell_type": "markdown",
   "metadata": {},
   "source": [
    "Notebook to get a quick estimate of the number of nodes that differ between two trees."
   ]
  },
  {
   "cell_type": "code",
   "execution_count": 1,
   "metadata": {
    "collapsed": false
   },
   "outputs": [],
   "source": [
    "import dendropy\n",
    "from dendropy.utility.fileutils import find_files\n",
    "import numpy as np"
   ]
  },
  {
   "cell_type": "markdown",
   "metadata": {},
   "source": [
    "Read in data."
   ]
  },
  {
   "cell_type": "code",
   "execution_count": 2,
   "metadata": {
    "collapsed": false
   },
   "outputs": [],
   "source": [
    "taxa = dendropy.TaxonSet()\n",
    "\n",
    "ours = dendropy.Tree.get_from_path('../best.phy', 'newick', taxon_set=taxa)"
   ]
  },
  {
   "cell_type": "markdown",
   "metadata": {},
   "source": [
    "Calculate Robinson-Foulds distance, and tree length."
   ]
  },
  {
   "cell_type": "code",
   "execution_count": 4,
   "metadata": {
    "collapsed": false
   },
   "outputs": [
    {
     "name": "stdout",
     "output_type": "stream",
     "text": [
      "124641.641853\n",
      "204.36802613\n",
      "1002\n"
     ]
    }
   ],
   "source": [
    "non_ml = dendropy.Tree.get_from_path('../Trees/MLE/ExaML_result.SquamataPyron.MLE.2b', 'newick', taxon_set = taxa)\n",
    "print ours.length()\n",
    "print non_ml.length()\n",
    "print ours.symmetric_difference(non_ml)"
   ]
  },
  {
   "cell_type": "code",
   "execution_count": null,
   "metadata": {
    "collapsed": false
   },
   "outputs": [],
   "source": [
    "taxa = dendropy.TaxonSet()\n",
    "\n",
    "pb = dendropy.Tree.get_from_path('../Trees/TotalOptimization/Ranked/2598364', 'nexus', taxon_set=taxa)"
   ]
  },
  {
   "cell_type": "code",
   "execution_count": 7,
   "metadata": {
    "collapsed": false
   },
   "outputs": [],
   "source": [
    "rfs = [tree.symmetric_difference(pb_o) for tree in uotrees]"
   ]
  },
  {
   "cell_type": "code",
   "execution_count": 8,
   "metadata": {
    "collapsed": false
   },
   "outputs": [
    {
     "data": {
      "text/plain": [
       "[2444, 2434, 2440, 2430, 2444, 2406, 2415, 2424, 2444, 2434, 2428]"
      ]
     },
     "execution_count": 8,
     "metadata": {},
     "output_type": "execute_result"
    }
   ],
   "source": [
    "rfs"
   ]
  },
  {
   "cell_type": "code",
   "execution_count": 3,
   "metadata": {
    "collapsed": false
   },
   "outputs": [
    {
     "name": "stdout",
     "output_type": "stream",
     "text": [
      "['/home/april/projectfiles/squamates/garli_opt/1.tre', '/home/april/projectfiles/squamates/garli_opt/4.tre', '/home/april/projectfiles/squamates/garli_opt/5.tre', '/home/april/projectfiles/squamates/garli_opt/6.tre', '/home/april/projectfiles/squamates/garli_opt/MLE.tre']\n"
     ]
    }
   ],
   "source": [
    "olist = find_files(top='garli_opt/', filename_filter='*.tre')\n",
    "print olist"
   ]
  },
  {
   "cell_type": "code",
   "execution_count": null,
   "metadata": {
    "collapsed": false
   },
   "outputs": [],
   "source": [
    "otrees = [dendropy.Tree.get_from_path(filename, \"nexus\") for filename in olist]"
   ]
  },
  {
   "cell_type": "markdown",
   "metadata": {},
   "source": [
    "Calculate RF score, pairwise over all trees in sample."
   ]
  },
  {
   "cell_type": "code",
   "execution_count": null,
   "metadata": {
    "collapsed": false
   },
   "outputs": [],
   "source": [
    "n = len(uotrees)\n",
    "udiffarray = np.zeros((n,n))\n",
    "\n",
    "for i, ele1 in enumerate(uotrees):\n",
    "    for j, ele2 in enumerate(uotrees):\n",
    "        if j >= i:\n",
    "            break # Since the matrix is symmetrical we don't need to\n",
    "                  # calculate everything\n",
    "        difference = ele1.symmetric_difference(ele2) \n",
    "        udiffarray[i, j] = difference\n",
    "        udiffarray[j, i] = difference"
   ]
  },
  {
   "cell_type": "code",
   "execution_count": null,
   "metadata": {
    "collapsed": false
   },
   "outputs": [],
   "source": [
    "diffarray"
   ]
  },
  {
   "cell_type": "code",
   "execution_count": 38,
   "metadata": {
    "collapsed": false
   },
   "outputs": [
    {
     "data": {
      "text/plain": [
       "array([[    0.,   866.,   974.,   886.,  1002.,   884.,   984.,   938.,\n",
       "          946.],\n",
       "       [  866.,     0.,   716.,   686.,   632.,   604.,   658.,   700.,\n",
       "          654.],\n",
       "       [  974.,   716.,     0.,   718.,   682.,   696.,   794.,   756.,\n",
       "          784.],\n",
       "       [  886.,   686.,   718.,     0.,   800.,   692.,   696.,   758.,\n",
       "          762.],\n",
       "       [ 1002.,   632.,   682.,   800.,     0.,   618.,   808.,   810.,\n",
       "          674.],\n",
       "       [  884.,   604.,   696.,   692.,   618.,     0.,   754.,   696.,\n",
       "          686.],\n",
       "       [  984.,   658.,   794.,   696.,   808.,   754.,     0.,   720.,\n",
       "          714.],\n",
       "       [  938.,   700.,   756.,   758.,   810.,   696.,   720.,     0.,\n",
       "          772.],\n",
       "       [  946.,   654.,   784.,   762.,   674.,   686.,   714.,   772.,\n",
       "            0.]])"
      ]
     },
     "execution_count": 38,
     "metadata": {},
     "output_type": "execute_result"
    }
   ],
   "source": [
    "diffarray"
   ]
  },
  {
   "cell_type": "code",
   "execution_count": 36,
   "metadata": {
    "collapsed": false
   },
   "outputs": [
    {
     "name": "stdout",
     "output_type": "stream",
     "text": [
      "[267.81482687115044, 204.3680261301375, 218.91695960755754, 205.61858615952585, 215.44145413795812, 203.79452107889662, 203.37676965100104, 205.6211342413188, 203.61742308190165]\n"
     ]
    }
   ],
   "source": [
    "o_tl = [tree.length() for tree in otrees]\n",
    "print o_tl"
   ]
  },
  {
   "cell_type": "code",
   "execution_count": 39,
   "metadata": {
    "collapsed": false
   },
   "outputs": [
    {
     "name": "stdout",
     "output_type": "stream",
     "text": [
      "[267.81482687115044, 204.3680261301375, 218.91695960755754, 205.61858615952585, 215.44145413795812, 203.79452107889662, 203.37676965100104, 205.6211342413188, 203.61742308190165]\n"
     ]
    }
   ],
   "source": [
    "uo_tl = [mle.length() for mle in uotrees]\n",
    "print uo_tl"
   ]
  },
  {
   "cell_type": "code",
   "execution_count": null,
   "metadata": {
    "collapsed": false
   },
   "outputs": [],
   "source": []
  }
 ],
 "metadata": {
  "kernelspec": {
   "display_name": "Python 2",
   "language": "python",
   "name": "python2"
  },
  "language_info": {
   "codemirror_mode": {
    "name": "ipython",
    "version": 2
   },
   "file_extension": ".py",
   "mimetype": "text/x-python",
   "name": "python",
   "nbconvert_exporter": "python",
   "pygments_lexer": "ipython2",
   "version": "2.7.11"
  }
 },
 "nbformat": 4,
 "nbformat_minor": 0
}
